{
  "nbformat": 4,
  "nbformat_minor": 0,
  "metadata": {
    "colab": {
      "provenance": []
    },
    "kernelspec": {
      "name": "python3",
      "display_name": "Python 3"
    },
    "language_info": {
      "name": "python"
    }
  },
  "cells": [
    {
      "cell_type": "code",
      "execution_count": 1,
      "metadata": {
        "id": "sptbDF79vh2O"
      },
      "outputs": [],
      "source": [
        "%pip -q install google-genai"
      ]
    },
    {
      "cell_type": "code",
      "source": [
        "# Instalar Framework ADK de agentes do Google ################################################\n",
        "!pip install -q google-adk"
      ],
      "metadata": {
        "colab": {
          "base_uri": "https://localhost:8080/"
        },
        "id": "RyfFB147v_Mw",
        "outputId": "d3965e9f-2d70-4e8b-b540-1b5eb2e3a128"
      },
      "execution_count": 2,
      "outputs": [
        {
          "output_type": "stream",
          "name": "stdout",
          "text": [
            "\u001b[?25l   \u001b[90m━━━━━━━━━━━━━━━━━━━━━━━━━━━━━━━━━━━━━━━━\u001b[0m \u001b[32m0.0/1.2 MB\u001b[0m \u001b[31m?\u001b[0m eta \u001b[36m-:--:--\u001b[0m\r\u001b[2K   \u001b[91m━━━━━━━━━━━━━━\u001b[0m\u001b[91m╸\u001b[0m\u001b[90m━━━━━━━━━━━━━━━━━━━━━━━━━\u001b[0m \u001b[32m0.4/1.2 MB\u001b[0m \u001b[31m12.7 MB/s\u001b[0m eta \u001b[36m0:00:01\u001b[0m\r\u001b[2K   \u001b[90m━━━━━━━━━━━━━━━━━━━━━━━━━━━━━━━━━━━━━━━━\u001b[0m \u001b[32m1.2/1.2 MB\u001b[0m \u001b[31m17.4 MB/s\u001b[0m eta \u001b[36m0:00:00\u001b[0m\n",
            "\u001b[2K   \u001b[90m━━━━━━━━━━━━━━━━━━━━━━━━━━━━━━━━━━━━━━━━\u001b[0m \u001b[32m232.1/232.1 kB\u001b[0m \u001b[31m13.5 MB/s\u001b[0m eta \u001b[36m0:00:00\u001b[0m\n",
            "\u001b[2K   \u001b[90m━━━━━━━━━━━━━━━━━━━━━━━━━━━━━━━━━━━━━━━━\u001b[0m \u001b[32m95.2/95.2 kB\u001b[0m \u001b[31m5.1 MB/s\u001b[0m eta \u001b[36m0:00:00\u001b[0m\n",
            "\u001b[2K   \u001b[90m━━━━━━━━━━━━━━━━━━━━━━━━━━━━━━━━━━━━━━━━\u001b[0m \u001b[32m217.1/217.1 kB\u001b[0m \u001b[31m10.8 MB/s\u001b[0m eta \u001b[36m0:00:00\u001b[0m\n",
            "\u001b[2K   \u001b[90m━━━━━━━━━━━━━━━━━━━━━━━━━━━━━━━━━━━━━━━━\u001b[0m \u001b[32m334.1/334.1 kB\u001b[0m \u001b[31m16.8 MB/s\u001b[0m eta \u001b[36m0:00:00\u001b[0m\n",
            "\u001b[2K   \u001b[90m━━━━━━━━━━━━━━━━━━━━━━━━━━━━━━━━━━━━━━━━\u001b[0m \u001b[32m125.1/125.1 kB\u001b[0m \u001b[31m6.8 MB/s\u001b[0m eta \u001b[36m0:00:00\u001b[0m\n",
            "\u001b[2K   \u001b[90m━━━━━━━━━━━━━━━━━━━━━━━━━━━━━━━━━━━━━━━━\u001b[0m \u001b[32m65.8/65.8 kB\u001b[0m \u001b[31m3.5 MB/s\u001b[0m eta \u001b[36m0:00:00\u001b[0m\n",
            "\u001b[2K   \u001b[90m━━━━━━━━━━━━━━━━━━━━━━━━━━━━━━━━━━━━━━━━\u001b[0m \u001b[32m119.0/119.0 kB\u001b[0m \u001b[31m6.9 MB/s\u001b[0m eta \u001b[36m0:00:00\u001b[0m\n",
            "\u001b[2K   \u001b[90m━━━━━━━━━━━━━━━━━━━━━━━━━━━━━━━━━━━━━━━━\u001b[0m \u001b[32m194.9/194.9 kB\u001b[0m \u001b[31m10.2 MB/s\u001b[0m eta \u001b[36m0:00:00\u001b[0m\n",
            "\u001b[2K   \u001b[90m━━━━━━━━━━━━━━━━━━━━━━━━━━━━━━━━━━━━━━━━\u001b[0m \u001b[32m62.5/62.5 kB\u001b[0m \u001b[31m3.1 MB/s\u001b[0m eta \u001b[36m0:00:00\u001b[0m\n",
            "\u001b[2K   \u001b[90m━━━━━━━━━━━━━━━━━━━━━━━━━━━━━━━━━━━━━━━━\u001b[0m \u001b[32m103.3/103.3 kB\u001b[0m \u001b[31m5.2 MB/s\u001b[0m eta \u001b[36m0:00:00\u001b[0m\n",
            "\u001b[2K   \u001b[90m━━━━━━━━━━━━━━━━━━━━━━━━━━━━━━━━━━━━━━━━\u001b[0m \u001b[32m44.4/44.4 kB\u001b[0m \u001b[31m1.8 MB/s\u001b[0m eta \u001b[36m0:00:00\u001b[0m\n",
            "\u001b[2K   \u001b[90m━━━━━━━━━━━━━━━━━━━━━━━━━━━━━━━━━━━━━━━━\u001b[0m \u001b[32m72.0/72.0 kB\u001b[0m \u001b[31m4.4 MB/s\u001b[0m eta \u001b[36m0:00:00\u001b[0m\n",
            "\u001b[?25h"
          ]
        }
      ]
    },
    {
      "cell_type": "code",
      "source": [
        "# Configura a API Key do Google Gemini\n",
        "\n",
        "import os\n",
        "from google.colab import userdata\n",
        "\n",
        "os.environ[\"GOOGLE_API_KEY\"] = userdata.get('GOOGLE_API_KEY')"
      ],
      "metadata": {
        "id": "TqaA5YxlvuA9"
      },
      "execution_count": 3,
      "outputs": []
    },
    {
      "cell_type": "code",
      "source": [
        "from google import genai\n",
        "from google.adk.agents import Agent\n",
        "from google.adk.runners import Runner\n",
        "from google.adk.sessions import InMemorySessionService\n",
        "from google.adk.tools import google_search\n",
        "from google.genai import types  # Para criar conteúdos (Content e Part)\n",
        "from datetime import date\n",
        "import textwrap # Para formatar melhor a saída de texto\n",
        "from IPython.display import HTML, display, Markdown # Para exibir texto formatado no Colab\n",
        "import requests # Para fazer requisições HTTP\n",
        "import warnings\n",
        "\n",
        "warnings.filterwarnings(\"ignore\")"
      ],
      "metadata": {
        "id": "ic1JXK60v0tz"
      },
      "execution_count": 4,
      "outputs": []
    },
    {
      "cell_type": "code",
      "source": [
        "# Função auxiliar que envia uma mensagem para um agente via Runner e retorna a resposta final\n",
        "def call_agent(agent: Agent, message_text: str) -> str:\n",
        "    # Cria um serviço de sessão em memória\n",
        "    session_service = InMemorySessionService()\n",
        "    # Cria uma nova sessão (você pode personalizar os IDs conforme necessário)\n",
        "    session = session_service.create_session(app_name=agent.name, user_id=\"user1\", session_id=\"session1\")\n",
        "    # Cria um Runner para o agente\n",
        "    runner = Runner(agent=agent, app_name=agent.name, session_service=session_service)\n",
        "    # Cria o conteúdo da mensagem de entrada\n",
        "    content = types.Content(role=\"user\", parts=[types.Part(text=message_text)])\n",
        "\n",
        "    final_response = \"\"\n",
        "    # Itera assincronamente pelos eventos retornados durante a execução do agente\n",
        "    for event in runner.run(user_id=\"user1\", session_id=\"session1\", new_message=content):\n",
        "        if event.is_final_response():\n",
        "          for part in event.content.parts:\n",
        "            if part.text is not None:\n",
        "              final_response += part.text\n",
        "              final_response += \"\\n\"\n",
        "    return final_response"
      ],
      "metadata": {
        "id": "TKqIf45RwToG"
      },
      "execution_count": 5,
      "outputs": []
    },
    {
      "cell_type": "code",
      "source": [
        "# Função auxiliar para exibir texto formatado em Markdown no Colab\n",
        "def to_markdown(text):\n",
        "  text = text.replace('•', '  *')\n",
        "  return Markdown(textwrap.indent(text, '> ', predicate=lambda _: True))"
      ],
      "metadata": {
        "id": "j9KlYbtCwaFM"
      },
      "execution_count": 6,
      "outputs": []
    },
    {
      "cell_type": "markdown",
      "source": [
        "Projeto de agente para planejamento de passeios\n",
        "(\"melhorador de rolês\")"
      ],
      "metadata": {
        "id": "HEcZpgLK0lPH"
      }
    },
    {
      "cell_type": "code",
      "source": [
        "##########################################\n",
        "# --- Agente 1: Processador de input --- #\n",
        "##########################################\n",
        "def agente_processador_input(texto_interesses):\n",
        "  buscador = Agent(\n",
        "      name='agente_processador_input',\n",
        "      model='gemini-2.0-flash',\n",
        "      instruction=\"\"\"\n",
        "      Você é um assistente de processamento de texto para identificar palavras chave relacionadas a interesses pessoais que serão\n",
        "      usadas para buscar locais como restaurantes, bares, museus, parques, exposições, construções, cinemas, teatros.\n",
        "      A sua tarefa é identificar as palavas chave do texto abaixo que estejam mais potencialmente relacionadas\n",
        "      a esses tipos de estabelecimentos.\n",
        "      Ao identificar as palavras chave, você deve criar uma lista que contenha apenas as palavras chave\n",
        "      extraídas do texto e responder somente com a lista.\n",
        "      Exemplo de resposta: [palavra_chave_1, palavra_chave_2, palavra_chave_3].\n",
        "      \"\"\",\n",
        "      description='Agente processador de informações de input para extrair palavras chave relacionadas a interesses pessoais.',\n",
        "      tools=[google_search]\n",
        "  )\n",
        "\n",
        "  entrada_do_agente_processador_input= f\"Texto: {texto_interesses}\"\n",
        "\n",
        "  lancamentos = call_agent(buscador, entrada_do_agente_processador_input)\n",
        "  return lancamentos"
      ],
      "metadata": {
        "id": "JO8bQcjSwbA5"
      },
      "execution_count": 19,
      "outputs": []
    },
    {
      "cell_type": "code",
      "source": [
        "############################################\n",
        "# --- Agente 2: Pesquisador geográfico --- #\n",
        "############################################\n",
        "def agente_pesquisador_geográfico(data_evento, local_inicial):\n",
        "  buscador = Agent(\n",
        "      name='agente_pesquisador_geográfico',\n",
        "      model='gemini-2.0-flash',\n",
        "      instruction=\"\"\"\n",
        "      Você é um profundo conhecedor de restaurantes, bares, museus, parques, exposições, construções, cinemas e teatros e está sempre\n",
        "      atento a novos locais que são abertos e a novas exposições, peças e filmes em exibição. Sua tarefa é utilizar a ferramenta (google_maps)\n",
        "      para identificar a região onde se localiza um certo estabelecimento fornecido abaixo. Identifique a cidade e o bairro\n",
        "      onde esse estabelecimento está localizado.\n",
        "      A partir disso, utilize a cidade identificada, regiões próximas ao bairro identificado (com distãncia de até cerca de 3km)\n",
        "      e a data fornecida abaixo para pesquisar no (google_search) eventos e locais para serem visitados.\n",
        "      Procure por eventos atuais e que estejam abertos e disponíveis na data fornecida e por locais que sejam bem avaliados\n",
        "      e que tenham grande quantidade de comentários positivos.\n",
        "      Você deve retornar uma lista de locais que possam potencialmente ser visitados na região e dia determinados.\n",
        "      Retorne apenas o nome do local e o tipo de local em uma lista com o seguinte formato: [(local1, tipo_local1), (local2, tipo_local2)].\n",
        "      \"\"\",\n",
        "      # Realize essas tarefas passo a passo considerando todas as variáveis (cidade, bairros próximos e data).\n",
        "      description='Agente que pesquisa estabelecimentos a serem visitados em área e data específica.',\n",
        "      tools=[google_search]\n",
        "  )\n",
        "\n",
        "  entrada_do_agente_pesquisador_geográfico= f\"Estabelecimento: {local_inicial}\\nData: {data_evento}\"\n",
        "\n",
        "  lancamentos = call_agent(buscador, entrada_do_agente_pesquisador_geográfico)\n",
        "  return lancamentos"
      ],
      "metadata": {
        "id": "nGp0L61p9Yo0"
      },
      "execution_count": 33,
      "outputs": []
    },
    {
      "cell_type": "code",
      "source": [
        "############################################\n",
        "# --- Agente 3: Avaliador de locais --- #\n",
        "############################################\n",
        "def agente_avaliador_locais(local_inicial, locais_pesquisados, lista_interesses):\n",
        "  buscador = Agent(\n",
        "      name='agente_avaliador_locais',\n",
        "      model='gemini-2.0-flash',\n",
        "      instruction=\"\"\"\n",
        "      Você é um especialista em planejamento de eventos e gestão de projetos.\n",
        "      Sua tarefa é avaliar uma série de locais selecionados e classificá-los de acordo com a proximidade de um local inicial e\n",
        "      de acordo com a afinidade com uma lista de interesses.\n",
        "      Primeiro ocê deve pegar cada item da lista de locais pesquisados e utilizar o (google_maps) para obter a distância\n",
        "      em kilometros entre esse local e o local inicial.\n",
        "      Depois você deve usar o (google_search) para cada local da lista e elaborar uma descrição de cada local\n",
        "      com foco no que pode ser feito no local e no tipo de pessoas que o frequentam.\n",
        "      Na sequência, analise a descrição de cada local com relação à lista de interesses pessoais abaixo e dê uma nota de 0 a 10 para\n",
        "      o quanto cada local se adequa aos interesses presentes.\n",
        "      Ao final elabore uma lista em que constem apenas os locais com nota superior a 5 e distância menor que 3km.\n",
        "      \"\"\",\n",
        "      description='Agente que pega cada local pesquisado, determina a distância a partir do local inicial e avalia cada local com relação aos interesses pessoais.',\n",
        "      tools=[google_search]\n",
        "  )\n",
        "\n",
        "  entrada_do_agente_avaliador_locais= f\"Local inicial: {local_inicial}\\nLocais selecionados: {locais_pesquisados}\\nLista de interesses: {lista_interesses}\"\n",
        "\n",
        "  lancamentos = call_agent(buscador, entrada_do_agente_avaliador_locais)\n",
        "  return lancamentos"
      ],
      "metadata": {
        "id": "xg2HrehVESJc"
      },
      "execution_count": 39,
      "outputs": []
    },
    {
      "cell_type": "code",
      "source": [
        "interesses_identificados = agente_processador_input(texto)\n",
        "print(\"\\n--- Resultado do agente 1 (processador de texto) ---\\n\")\n",
        "display(to_markdown(interesses_identificados))\n",
        "print(\"--------------------------------------------------------\")"
      ],
      "metadata": {
        "colab": {
          "base_uri": "https://localhost:8080/",
          "height": 132
        },
        "collapsed": true,
        "id": "uGELCsEA66Lh",
        "outputId": "1e1d1d8d-740d-46c6-deb3-ee8adb13c978"
      },
      "execution_count": 37,
      "outputs": [
        {
          "output_type": "stream",
          "name": "stdout",
          "text": [
            "\n",
            "--- Resultado do agente 1 (processador de texto) ---\n",
            "\n"
          ]
        },
        {
          "output_type": "display_data",
          "data": {
            "text/plain": [
              "<IPython.core.display.Markdown object>"
            ],
            "text/markdown": "> [arquitetura, urbanismo, plantas, história, cultura, lugares calmos, decoração, comidinhas apetitosas]\n> \n"
          },
          "metadata": {}
        },
        {
          "output_type": "stream",
          "name": "stdout",
          "text": [
            "--------------------------------------------------------\n"
          ]
        }
      ]
    },
    {
      "cell_type": "code",
      "source": [
        "locais_pesquisados = agente_pesquisador_geográfico(date.today(), local)\n",
        "print(\"\\n--- Resultado do agente 2 (pesquisador geográfico) ---\\n\")\n",
        "display(to_markdown(locais_pesquisados))\n",
        "print(\"--------------------------------------------------------\")"
      ],
      "metadata": {
        "colab": {
          "base_uri": "https://localhost:8080/",
          "height": 538
        },
        "collapsed": true,
        "id": "MaiPnKxe7PAk",
        "outputId": "c3201a72-3c0d-4aaa-b6b3-25630c8e154e"
      },
      "execution_count": 34,
      "outputs": [
        {
          "output_type": "stream",
          "name": "stdout",
          "text": [
            "\n",
            "--- Resultado do agente 2 (pesquisador geográfico) ---\n",
            "\n"
          ]
        },
        {
          "output_type": "display_data",
          "data": {
            "text/plain": [
              "<IPython.core.display.Markdown object>"
            ],
            "text/markdown": "> O restaurante Pastissimo Vila Madalena está localizado em São Paulo, no bairro de Sumaré, próximo à Vila Madalena.\n> \n> Aqui está uma lista de locais e eventos que podem ser visitados em São Paulo, nas proximidades da Vila Madalena, no dia 18 de maio de 2025:\n> \n> *   **Festival Pinheiros:** (evento) Gastronomia, cultura e diversão na Rua dos Pinheiros, Pinheiros. Entrada gratuita.\n> *   **Beco do Batman:** (ponto turístico) Famoso pela arte de rua e grafites.\n> *   **Parque Villa-Lobos:** (parque) Amplo espaço de lazer com gramados, quadras, ciclovia, parquinho e Biblioteca Parque Villa-Lobos.\n> *   **Praça do Pôr do Sol:** (praça) Conhecida pela vista panorâmica do pôr do sol.\n> *   **Natan por aí e a Lenda dos Gigantes:** (teatro) Apresentação no Teatro Bradesco, no bairro de Perdizes.\n> *   **Experimentos do Invisível:** (evento) Localizado em Perdizes.\n> *   **Vai de Roteiro - Vila Madalena:** (passeio guiado) Tour guiado gratuito pela Vila Madalena, com saída da Rua Pinheiros.\n> *   **Run das Mães - Corrida e Caminhada:** (corrida) Evento de corrida no Parque Bruno Covas.\n> *   **Feira de Artesanato Parque Cordeiro - Martin Luther King:** (feira de artesanato) Ocorre no Parque Cordeiro.\n> *   **Feira de Artesanato Parque Jardim das Perdizes:** (feira de artesanato) Ocorre no Parque Jardim das Perdizes.\n> *   **Feira Parque Buenos Aires:** (feira de artesanato) Ocorre na Av. Angélica, 1500, Higienópolis.\n> *   **YIN WAR 1ST FAN MEETING:** (evento) Informações sobre o evento podem ser encontradas no site Visite São Paulo.\n> *   **CONCERTO PAOLO ANDRÉ GUALDI:** (concerto) Informações sobre o evento podem ser encontradas no site Visite São Paulo.\n> *   **BESOURO MULHER E PELADOS:** (evento) Informações sobre o evento podem ser encontradas no site Visite São Paulo.\n> *   **PATRULHA SHOW EM AVENTURAS CANINAS:** (evento) Informações sobre o evento podem ser encontradas no site Visite São Paulo.\n> *    **Vila Madalena:** (bares) Bares como o \"De Primeira Botequim\", \"Bar São Cristóvão\", \"Bar Alto\", \"Madeleine Bar\", \"O Pasquim Bar e Prosa\", \"Boteco Todos os Santos\", \"O SubAstor\" e \"Olívio Bar\".\n> \n> **Museus próximos:**\n> \n> *   **Galeria Raquel Arnaud:** (galeria de arte) Focada em arte contemporânea.\n> *   **Museu de Arte de São Paulo (MASP):** (museu) Um dos museus mais importantes da América Latina, localizado na Avenida Paulista.\n> *   **Pinacoteca do Estado:** (museu) Possui uma extensa coleção de arte brasileira.\n> \n"
          },
          "metadata": {}
        },
        {
          "output_type": "stream",
          "name": "stdout",
          "text": [
            "--------------------------------------------------------\n"
          ]
        }
      ]
    },
    {
      "cell_type": "code",
      "source": [
        "locais_avaliados = agente_avaliador_locais(local, locais_pesquisados, interesses_identificados)\n",
        "print(\"\\n--- Resultado do agente 3 (avaliador de locais) ---\\n\")\n",
        "display(to_markdown(locais_avaliados))\n",
        "print(\"--------------------------------------------------------\")"
      ],
      "metadata": {
        "colab": {
          "base_uri": "https://localhost:8080/",
          "height": 1000
        },
        "collapsed": true,
        "id": "a3LLtjF-CbSc",
        "outputId": "21cc91ca-0ea9-47eb-d553-fcbeac1d382b"
      },
      "execution_count": 40,
      "outputs": [
        {
          "output_type": "stream",
          "name": "stdout",
          "text": [
            "\n",
            "--- Resultado do agente 3 (avaliador de locais) ---\n",
            "\n"
          ]
        },
        {
          "output_type": "display_data",
          "data": {
            "text/plain": [
              "<IPython.core.display.Markdown object>"
            ],
            "text/markdown": "> Okay, vamos lá. Primeiro, vou coletar as distâncias de cada local em relação ao \"Pastissimo Vila Madalena\" e, em seguida, pesquisar informações sobre cada um para avaliar sua adequação aos seus interesses.\n> \n> \n> Ok, coletei as informações. Agora vou analisar cada local e atribuir as notas.\n> \n> **Festival Pinheiros:**\n> \n> *   **Distância:** Próximo ao Pastissimo Vila Madalena (localizado na Rua dos Pinheiros).\n> *   **Descrição:** Evento de rua com gastronomia, cultura, lazer e sustentabilidade. Música ao vivo, atividades para crianças e pets, comidinhas artesanais e atrações para toda a família.\n> *   **Afinidade com Interesses:** Gastronomia (comidinhas apetitosas), cultura (música, arte de rua), urbanismo (evento de rua revitalizando o espaço público).\n> *   **Nota:** 8/10\n> \n> **Beco do Batman:**\n> \n> *   **Distância:** Próximo ao Pastissimo Vila Madalena (Vila Madalena).\n> *   **Descrição:** Galeria de arte urbana a céu aberto, com grafites e murais em constante renovação. Lojas de artesanato, bares e restaurantes nas proximidades.\n> *   **Afinidade com Interesses:** Arquitetura/Urbanismo (arte de rua transformando o espaço), cultura (grafite, arte urbana), decoração (murais), história (evolução da arte no local).\n> *   **Nota:** 9/10\n> \n> **Parque Villa-Lobos:**\n> \n> *   **Distância:** Aproximadamente 4.8 km do Pastissimo Vila Madalena.\n> *   **Descrição:** Amplo espaço de lazer com gramados, quadras, ciclovia, parquinho, Biblioteca Parque Villa-Lobos e Orquidário Ruth Cardoso. Espécies nativas da Mata Atlântica.\n> *   **Afinidade com Interesses:** Plantas (Mata Atlântica, orquidário), urbanismo (espaço de lazer), lugares calmos (gramados), arquitetura (circuito das árvores).\n> *   **Nota:** 7/10\n> \n> **Praça do Pôr do Sol:**\n> \n> *   **Distância:** Aproximadamente 2.1 km do Pastissimo Vila Madalena.\n> *   **Descrição:** Praça com vista panorâmica do pôr do sol, ideal para piqueniques, meditação e atividades ao ar livre.\n> *   **Afinidade com Interesses:** Lugares calmos (meditação), plantas (árvores remanescentes da Mata Atlântica), arquitetura/urbanismo (vista panorâmica).\n> *   **Nota:** 8/10\n> \n> **Natan por aí e a Lenda dos Gigantes (Teatro Bradesco):**\n> \n> *   **Distância:** Aproximadamente 3.8 km do Pastissimo Vila Madalena.\n> *   **Descrição:** Teatro localizado em Perdizes, com apresentações variadas.\n> *   **Afinidade com Interesses:** Cultura (teatro). Depende do espetáculo.\n> *   **Nota:** 5/10 (genérico, sem saber o conteúdo do espetáculo)\n> \n> **Experimentos do Invisível (Perdizes):**\n> \n> *   **Distância:** Aproximadamente 3.8 km do Pastissimo Vila Madalena.\n> *   **Descrição:** Informações limitadas. Necessário mais detalhes sobre o evento.\n> *   **Afinidade com Interesses:** Impossível avaliar sem mais informações.\n> *   **Nota:** 2/10 (sem informações)\n> \n> **Vai de Roteiro - Vila Madalena:**\n> \n> *   **Distância:** O ponto de saída (Rua Pinheiros) é próximo ao Pastissimo Vila Madalena.\n> *   **Descrição:** Tour guiado gratuito pela Vila Madalena.\n> *   **Afinidade com Interesses:** História (do bairro), cultura (exploração local), arquitetura/urbanismo (conhecer a Vila Madalena).\n> *   **Nota:** 7/10\n> \n> **Run das Mães - Corrida e Caminhada (Parque Bruno Covas):**\n> \n> *   **Distância:** Aproximadamente 6.5 km do Pastissimo Vila Madalena.\n> *   **Descrição:** Evento de corrida.\n> *   **Afinidade com Interesses:** Nenhum dos interesses listados.\n> *   **Nota:** 1/10\n> \n> **Feira de Artesanato Parque Cordeiro - Martin Luther King:**\n> \n> *   **Distância:** Aproximadamente 11 km do Pastissimo Vila Madalena.\n> *   **Descrição:** Feira de artesanato.\n> *   **Afinidade com Interesses:** Decoração (artesanato).\n> *   **Nota:** 4/10\n> \n> **Feira de Artesanato Parque Jardim das Perdizes:**\n> \n> *   **Distância:** Aproximadamente 3.8 km do Pastissimo Vila Madalena.\n> *   **Descrição:** Feira de artesanato. O parque conta com pista de cooper, ciclovia, playground, equipamentos de ginástica para a terceira idade e administração.\n> *   **Afinidade com Interesses:** Decoração (artesanato).\n> *   **Nota:** 4/10\n> \n> **Feira Parque Buenos Aires:**\n> \n> *   **Distância:** Aproximadamente 5.2 km do Pastissimo Vila Madalena.\n> *   **Descrição:** Feira de artesanato.\n> *   **Afinidade com Interesses:** Decoração (artesanato).\n> *   **Nota:** 4/10\n> \n> **YIN WAR 1ST FAN MEETING:**\n> \n> *   **Distância:** Não foi possível determinar a localização exata.\n> *   **Descrição:** Evento. Necessita de mais informações.\n> *   **Afinidade com Interesses:** Não é possível avaliar.\n> *   **Nota:** 1/10\n> \n> **CONCERTO PAOLO ANDRÉ GUALDI:**\n> \n> *   **Distância:** Não foi possível determinar a localização exata.\n> *   **Descrição:** Concerto. Necessita de mais informações.\n> *   **Afinidade com Interesses:** Cultura (música).\n> *   **Nota:** 4/10 (genérico, dependendo do estilo musical)\n> \n> **BESOURO MULHER E PELADOS:**\n> \n> *   **Distância:** Não foi possível determinar a localização exata.\n> *   **Descrição:** Evento. Necessita de mais informações.\n> *   **Afinidade com Interesses:** Não é possível avaliar.\n> *   **Nota:** 1/10\n> \n> **PATRULHA SHOW EM AVENTURAS CANINAS:**\n> \n> *   **Distância:** Não foi possível determinar a localização exata.\n> *   **Descrição:** Evento. Necessita de mais informações.\n> *   **Afinidade com Interesses:** Não é possível avaliar.\n> *   **Nota:** 1/10\n> \n> **Vila Madalena (bares):**\n> \n> *   **Distância:** Próximo ao Pastissimo Vila Madalena.\n> *   **Descrição:** Diversos bares com diferentes estilos, como \"De Primeira Botequim\" (ambiente alegre, samba), \"Bar São Cristóvão\" (temático de futebol), \"Bar Alto\" (cozinha brasileira), \"Madeleine Bar\" (jazz e gastronomia criativa), \"O Pasquim Bar e Prosa\" (música ao vivo, ambiente descontraído), \"Boteco Todos os Santos\" (samba e feijoada), \"O SubAstor\" (coquetelaria) e \"Olívio Bar\" (drinks temáticos).\n> *   **Afinidade com Interesses:** Cultura (música ao vivo, samba), comidinhas apetitosas (petiscos de bar), decoração (ambiente dos bares), lugares calmos (dependendo do bar).\n> *   **Nota:** 7/10 (média geral, alguns bares podem ter notas maiores dependendo do estilo)\n> \n> **Galeria Raquel Arnaud:**\n> \n> *   **Distância:** Próximo ao Pastissimo Vila Madalena (Vila Madalena).\n> *   **Descrição:** Galeria de arte focada em arte construtiva e cinética, com obras de artistas renomados. Espaços assinados por arquitetos como Lina Bo Bardi e Ruy Ohtake.\n> *   **Afinidade com Interesses:** Arquitetura (espaço da galeria), cultura (arte contemporânea), decoração (esculturas).\n> *   **Nota:** 8/10\n> \n> **Museu de Arte de São Paulo (MASP):**\n> \n> *   **Distância:** Aproximadamente 6.4 km do Pastissimo Vila Madalena.\n> *   **Descrição:** Um dos museus mais importantes da América Latina, com acervo de arte brasileira e internacional, exposições temporárias e arquitetura icônica.\n> *   **Afinidade com Interesses:** Arquitetura (prédio do museu), cultura (arte), história (acervo).\n> *   **Nota:** 9/10\n> \n> **Pinacoteca do Estado:**\n> \n> *   **Distância:** Aproximadamente 7.8 km do Pastissimo Vila Madalena.\n> *   **Descrição:** Possui uma extensa coleção de arte brasileira.\n> *   **Afinidade com Interesses:** Cultura (arte brasileira), história (acervo).\n> *   **Nota:** 8/10\n> \n> **Lista Final (Nota > 5 e Distância < 3km):**\n> \n> *   **Festival Pinheiros**\n> *   **Beco do Batman**\n> *   **Praça do Pôr do Sol**\n> *   **Vai de Roteiro - Vila Madalena**\n> *   **Vila Madalena (bares)**\n> *   **Galeria Raquel Arnaud**\n> \n> Espero que esta análise detalhada te ajude a planejar um ótimo dia na Vila Madalena e arredores!\n> \n"
          },
          "metadata": {}
        },
        {
          "output_type": "stream",
          "name": "stdout",
          "text": [
            "--------------------------------------------------------\n"
          ]
        }
      ]
    },
    {
      "cell_type": "code",
      "source": [
        "print(\"🚀 Iniciando o Sistema de sugestão de passeios! 🚀\")\n",
        "\n",
        "# --- Obter os inputs do Usuário ---\n",
        "data_evento = date.today()\n",
        "local_inicial = input(\"Olá! Eu vou te ajudar a encontrar locais para compor e melhorar seu passeio de hoje!\\nMe conte aonde você quer ir hoje e eu vou encontrar locais próximos para que você aproveite ainda mais o seu dia!\\n Em qual local você irá hoje?: \")\n",
        "\n",
        "# Inserir lógica do sistema de agentes ################################################\n",
        "if not local_inicial:\n",
        "  print('Escolha um local!')\n",
        "\n",
        "texto_interesses = input('Agora me conte quais são seus interesses (locais em que gosta de ir, coisas que gosta de fazer ou comer, tipos de arte que te atraem): ')\n",
        "if not texto_interesses:\n",
        "  print('Defina seus interesses!')\n",
        "else:\n",
        "  print(f\"Perfeito! Vamos criar uma lista de locais para tornar seu passeio ainda mais interessante!\")\n",
        "\n",
        "  interesses_identificados = agente_processador_input(texto)\n",
        "  print(\"\\n--- Resultado do agente 1 (processador de texto) ---\\n\")\n",
        "  display(to_markdown(interesses_identificados))\n",
        "  print(\"--------------------------------------------------------\")\n",
        "\n",
        "  locais_pesquisados = agente_pesquisador_geográfico(date.today(), local)\n",
        "  print(\"\\n--- Resultado do agente 2 (pesquisador geográfico) ---\\n\")\n",
        "  display(to_markdown(locais_pesquisados))\n",
        "  print(\"--------------------------------------------------------\")\n",
        "\n",
        "  locais_avaliados = agente_avaliador_locais(local, locais_pesquisados, interesses_identificados)\n",
        "  print(\"\\n--- Resultado do agente 3 (avaliador de locais) ---\\n\")\n",
        "  display(to_markdown(locais_avaliados))\n",
        "  print(\"--------------------------------------------------------\")"
      ],
      "metadata": {
        "id": "km1FjISAM2Z3"
      },
      "execution_count": null,
      "outputs": []
    }
  ]
}